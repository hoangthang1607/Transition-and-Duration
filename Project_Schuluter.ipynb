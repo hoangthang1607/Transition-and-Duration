{
 "cells": [
  {
   "cell_type": "markdown",
   "metadata": {},
   "source": [
    "# The Duration of Unemployment - Replicating Lalive et al. (2006, ReStud)"
   ]
  },
  {
   "cell_type": "markdown",
   "metadata": {},
   "source": [
    "## 1. The contribution of this study"
   ]
  },
  {
   "cell_type": "markdown",
   "metadata": {},
   "source": [
    "- The objectives: \n",
    "- How do they relate to the established literature?\n",
    "- What is novel about the empirical strategy?\n",
    "- What are the results and how convincing are these?\n",
    "\n",
    "    By using longitudinal database combined from both Austrian social security and Austrian unemployement register database which ranges from 1 August 1987 until 31 July 1991 (4 years - including 2 years before and 2 years after the change of policy in unemployment insurance in Austria), \n",
    "\n",
    "RR - replacement rate\n",
    "PBD - potential benefit duration\n",
    "    A considerable theoretical literature has shown that more generous unemployment insurance system (through a higher RR and/or a longer PBD) will reduce the optimal job search effort of an unemployed worker and hence result in longer unemployment duration.\n",
    "    Moreover the theories also offer sharp predictions on how changes in key parameters in unemployment insurance will affect the unemployment exit rate.\n",
    "    The present paper identifies the causal effect of benefit duration on the willingness of individuals to accept jobs using a policy change that took place\n",
    "    "
   ]
  },
  {
   "cell_type": "markdown",
   "metadata": {},
   "source": [
    "## 2. Attempt to replicate Table 4 of the paper"
   ]
  },
  {
   "cell_type": "code",
   "execution_count": 4,
   "metadata": {},
   "outputs": [],
   "source": [
    "# Data Preparation\n",
    "rm(list=objects())"
   ]
  },
  {
   "cell_type": "code",
   "execution_count": 7,
   "metadata": {},
   "outputs": [
    {
     "name": "stderr",
     "output_type": "stream",
     "text": [
      "Installing package into 'C:/Users/hoang/Documents/R/win-library/3.5'\n",
      "(as 'lib' is unspecified)\n",
      "also installing the dependencies 'colorspace', 'stringr', 'labeling', 'munsell', 'RColorBrewer', 'gtable', 'lazyeval', 'plyr', 'reshape2', 'scales', 'viridisLite'\n",
      "\n"
     ]
    },
    {
     "name": "stdout",
     "output_type": "stream",
     "text": [
      "package 'colorspace' successfully unpacked and MD5 sums checked\n",
      "package 'stringr' successfully unpacked and MD5 sums checked\n",
      "package 'labeling' successfully unpacked and MD5 sums checked\n",
      "package 'munsell' successfully unpacked and MD5 sums checked\n",
      "package 'RColorBrewer' successfully unpacked and MD5 sums checked\n",
      "package 'gtable' successfully unpacked and MD5 sums checked\n",
      "package 'lazyeval' successfully unpacked and MD5 sums checked\n",
      "package 'plyr' successfully unpacked and MD5 sums checked\n",
      "package 'reshape2' successfully unpacked and MD5 sums checked\n",
      "package 'scales' successfully unpacked and MD5 sums checked\n",
      "package 'viridisLite' successfully unpacked and MD5 sums checked\n",
      "package 'ggplot2' successfully unpacked and MD5 sums checked\n",
      "\n",
      "The downloaded binary packages are in\n",
      "\tC:\\Users\\hoang\\AppData\\Local\\Temp\\RtmpmUlXOR\\downloaded_packages\n"
     ]
    }
   ],
   "source": [
    "install.packages('ggplot2')"
   ]
  },
  {
   "cell_type": "code",
   "execution_count": 8,
   "metadata": {},
   "outputs": [
    {
     "name": "stderr",
     "output_type": "stream",
     "text": [
      "\n",
      "Attaching package: 'dplyr'\n",
      "\n",
      "The following objects are masked from 'package:stats':\n",
      "\n",
      "    filter, lag\n",
      "\n",
      "The following objects are masked from 'package:base':\n",
      "\n",
      "    intersect, setdiff, setequal, union\n",
      "\n",
      "KernSmooth 2.23 loaded\n",
      "Copyright M. P. Wand 1997-2009\n"
     ]
    }
   ],
   "source": [
    "# Loading some necessary packages\n",
    "library(foreign)\n",
    "library(survival)\n",
    "library(dplyr)\n",
    "library(tidyr)\n",
    "library(KernSmooth)\n",
    "library(ggplot2)"
   ]
  },
  {
   "cell_type": "code",
   "execution_count": 9,
   "metadata": {},
   "outputs": [],
   "source": [
    "# Loading the dataset\n",
    "udat <- read.dta(\"fi.dta\")"
   ]
  },
  {
   "cell_type": "code",
   "execution_count": 10,
   "metadata": {},
   "outputs": [
    {
     "name": "stdout",
     "output_type": "stream",
     "text": [
      "[1] 225821    166\n"
     ]
    }
   ],
   "source": [
    "# Checking the dimension\n",
    "print(dim(udat))"
   ]
  },
  {
   "cell_type": "code",
   "execution_count": 11,
   "metadata": {},
   "outputs": [],
   "source": [
    "# Getting rid of some superfluous variables\n",
    "udat <- udat[,1:134]"
   ]
  },
  {
   "cell_type": "code",
   "execution_count": 12,
   "metadata": {},
   "outputs": [
    {
     "data": {
      "text/plain": [
       "\n",
       "PBD and RR        PBD         RR    control \n",
       "     21174      99404      32470      72773 "
      ]
     },
     "metadata": {},
     "output_type": "display_data"
    }
   ],
   "source": [
    "# Checking the quantity of four groups of unemployed workers\n",
    "table(udat$type)"
   ]
  },
  {
   "cell_type": "code",
   "execution_count": 13,
   "metadata": {},
   "outputs": [],
   "source": [
    "# Computation of average spells when durations are truncated at 104 weeks\n",
    "udat$dur104 <- udat$dur\n",
    "udat$dur104[(udat$dur104 > 104)] = 104"
   ]
  },
  {
   "cell_type": "markdown",
   "metadata": {},
   "source": [
    "## Question 2"
   ]
  },
  {
   "cell_type": "code",
   "execution_count": 14,
   "metadata": {},
   "outputs": [],
   "source": [
    "table4 <- udat %>%\n",
    "    mutate(Type = ifelse(type == 'PBD', 'ePBD group', ifelse(type == 'RR', 'eRR group', ifelse(type == 'PBD and RR', 'ePBD-RR group', 'Control group')))) %>%\n",
    "    group_by(Type, after) %>%\n",
    "    summarize(average = mean(dur104), standard_deviation = sd(dur104), count = n()) %>%\n",
    "    mutate(standard_error = standard_deviation / sqrt(count))"
   ]
  },
  {
   "cell_type": "code",
   "execution_count": 15,
   "metadata": {},
   "outputs": [
    {
     "data": {
      "text/html": [
       "<table>\n",
       "<thead><tr><th scope=col>Type</th><th scope=col>after</th><th scope=col>average</th><th scope=col>standard_deviation</th><th scope=col>count</th><th scope=col>standard_error</th></tr></thead>\n",
       "<tbody>\n",
       "\t<tr><td>Control group</td><td>0            </td><td>14.46226     </td><td>14.38562     </td><td>33815        </td><td>0.07823008   </td></tr>\n",
       "\t<tr><td>Control group</td><td>1            </td><td>15.63168     </td><td>17.16584     </td><td>38958        </td><td>0.08696947   </td></tr>\n",
       "\t<tr><td>ePBD-RR group</td><td>0            </td><td>18.48832     </td><td>17.71669     </td><td>11992        </td><td>0.16178444   </td></tr>\n",
       "\t<tr><td>ePBD-RR group</td><td>1            </td><td>22.73973     </td><td>22.32690     </td><td> 9182        </td><td>0.23300208   </td></tr>\n",
       "\t<tr><td>ePBD group   </td><td>0            </td><td>15.83402     </td><td>16.64017     </td><td>48294        </td><td>0.07572010   </td></tr>\n",
       "\t<tr><td>ePBD group   </td><td>1            </td><td>18.08298     </td><td>20.61513     </td><td>51110        </td><td>0.09118705   </td></tr>\n",
       "\t<tr><td>eRR group    </td><td>0            </td><td>17.10815     </td><td>15.45186     </td><td>17160        </td><td>0.11795657   </td></tr>\n",
       "\t<tr><td>eRR group    </td><td>1            </td><td>19.09596     </td><td>18.83882     </td><td>15310        </td><td>0.15225308   </td></tr>\n",
       "</tbody>\n",
       "</table>\n"
      ],
      "text/latex": [
       "\\begin{tabular}{r|llllll}\n",
       " Type & after & average & standard\\_deviation & count & standard\\_error\\\\\n",
       "\\hline\n",
       "\t Control group & 0             & 14.46226      & 14.38562      & 33815         & 0.07823008   \\\\\n",
       "\t Control group & 1             & 15.63168      & 17.16584      & 38958         & 0.08696947   \\\\\n",
       "\t ePBD-RR group & 0             & 18.48832      & 17.71669      & 11992         & 0.16178444   \\\\\n",
       "\t ePBD-RR group & 1             & 22.73973      & 22.32690      &  9182         & 0.23300208   \\\\\n",
       "\t ePBD group    & 0             & 15.83402      & 16.64017      & 48294         & 0.07572010   \\\\\n",
       "\t ePBD group    & 1             & 18.08298      & 20.61513      & 51110         & 0.09118705   \\\\\n",
       "\t eRR group     & 0             & 17.10815      & 15.45186      & 17160         & 0.11795657   \\\\\n",
       "\t eRR group     & 1             & 19.09596      & 18.83882      & 15310         & 0.15225308   \\\\\n",
       "\\end{tabular}\n"
      ],
      "text/markdown": [
       "\n",
       "| Type | after | average | standard_deviation | count | standard_error |\n",
       "|---|---|---|---|---|---|\n",
       "| Control group | 0             | 14.46226      | 14.38562      | 33815         | 0.07823008    |\n",
       "| Control group | 1             | 15.63168      | 17.16584      | 38958         | 0.08696947    |\n",
       "| ePBD-RR group | 0             | 18.48832      | 17.71669      | 11992         | 0.16178444    |\n",
       "| ePBD-RR group | 1             | 22.73973      | 22.32690      |  9182         | 0.23300208    |\n",
       "| ePBD group    | 0             | 15.83402      | 16.64017      | 48294         | 0.07572010    |\n",
       "| ePBD group    | 1             | 18.08298      | 20.61513      | 51110         | 0.09118705    |\n",
       "| eRR group     | 0             | 17.10815      | 15.45186      | 17160         | 0.11795657    |\n",
       "| eRR group     | 1             | 19.09596      | 18.83882      | 15310         | 0.15225308    |\n",
       "\n"
      ],
      "text/plain": [
       "  Type          after average  standard_deviation count standard_error\n",
       "1 Control group 0     14.46226 14.38562           33815 0.07823008    \n",
       "2 Control group 1     15.63168 17.16584           38958 0.08696947    \n",
       "3 ePBD-RR group 0     18.48832 17.71669           11992 0.16178444    \n",
       "4 ePBD-RR group 1     22.73973 22.32690            9182 0.23300208    \n",
       "5 ePBD group    0     15.83402 16.64017           48294 0.07572010    \n",
       "6 ePBD group    1     18.08298 20.61513           51110 0.09118705    \n",
       "7 eRR group     0     17.10815 15.45186           17160 0.11795657    \n",
       "8 eRR group     1     19.09596 18.83882           15310 0.15225308    "
      ]
     },
     "metadata": {},
     "output_type": "display_data"
    }
   ],
   "source": [
    "table4"
   ]
  },
  {
   "cell_type": "code",
   "execution_count": 16,
   "metadata": {},
   "outputs": [],
   "source": [
    "avg_table4 <- table4 %>%\n",
    "    select(Type, after, average) %>%\n",
    "    spread(after, average) %>%\n",
    "    mutate(Value = 'average') %>%\n",
    "    rename(Before_August_1989 = '0', After_August_1989 = '1') %>%\n",
    "    mutate(Change_After_Before = After_August_1989 - Before_August_1989) %>%\n",
    "    mutate(Diff_in_diff = Change_After_Before - 1.17) %>%\n",
    "    mutate_if(is.numeric, round, 2)\n",
    "avg_table4$Position = c(4, 3, 1, 2)"
   ]
  },
  {
   "cell_type": "code",
   "execution_count": 17,
   "metadata": {},
   "outputs": [],
   "source": [
    "ste_table4 <- table4 %>%\n",
    "    select(Type, after, standard_error) %>%\n",
    "    spread(after, standard_error) %>%\n",
    "    mutate(Value = 'ste') %>%\n",
    "    rename(Before_August_1989 = '0', After_August_1989 = '1') %>%\n",
    "    mutate(Change_After_Before = sqrt(After_August_1989**2 + Before_August_1989**2)) %>%\n",
    "    mutate(Diff_in_diff = sqrt(Change_After_Before**2 + 0.12**2)) %>%\n",
    "    mutate_if(is.numeric, round, 2)\n",
    "ste_table4$Position = c(4, 3, 1, 2)"
   ]
  },
  {
   "cell_type": "code",
   "execution_count": 18,
   "metadata": {},
   "outputs": [],
   "source": [
    "count_table4 <- table4 %>%\n",
    "    select(Type, after, count) %>%\n",
    "    spread(after, count) %>%\n",
    "    mutate(Value = 'count') %>%\n",
    "    rename(Before_August_1989 = '0', After_August_1989 = '1') %>%\n",
    "    mutate_if(is.numeric, round, 0)\n",
    "count_table4$Position = c(4, 3, 1, 2)"
   ]
  },
  {
   "cell_type": "code",
   "execution_count": 19,
   "metadata": {},
   "outputs": [],
   "source": [
    "table4_final <- bind_rows(avg_table4, ste_table4, count_table4)"
   ]
  },
  {
   "cell_type": "code",
   "execution_count": 20,
   "metadata": {},
   "outputs": [],
   "source": [
    "table4_final <- table4_final %>%\n",
    "    arrange(Position) %>%\n",
    "    select(Type, Value, Before_August_1989, After_August_1989, Change_After_Before, Diff_in_diff)"
   ]
  },
  {
   "cell_type": "code",
   "execution_count": 21,
   "metadata": {},
   "outputs": [],
   "source": [
    "table4_final$Diff_in_diff[table4_final$Type == 'Control group'] = NA"
   ]
  },
  {
   "cell_type": "code",
   "execution_count": 22,
   "metadata": {},
   "outputs": [
    {
     "data": {
      "text/html": [
       "<table>\n",
       "<thead><tr><th scope=col>Type</th><th scope=col>Value</th><th scope=col>Before_August_1989</th><th scope=col>After_August_1989</th><th scope=col>Change_After_Before</th><th scope=col>Diff_in_diff</th></tr></thead>\n",
       "<tbody>\n",
       "\t<tr><td>ePBD group   </td><td>average      </td><td>   15.83     </td><td>   18.08     </td><td>2.25         </td><td>1.08         </td></tr>\n",
       "\t<tr><td>ePBD group   </td><td>ste          </td><td>    0.08     </td><td>    0.09     </td><td>0.12         </td><td>0.17         </td></tr>\n",
       "\t<tr><td>ePBD group   </td><td>count        </td><td>48294.00     </td><td>51110.00     </td><td>  NA         </td><td>  NA         </td></tr>\n",
       "\t<tr><td>eRR group    </td><td>average      </td><td>   17.11     </td><td>   19.10     </td><td>1.99         </td><td>0.82         </td></tr>\n",
       "\t<tr><td>eRR group    </td><td>ste          </td><td>    0.12     </td><td>    0.15     </td><td>0.19         </td><td>0.23         </td></tr>\n",
       "\t<tr><td>eRR group    </td><td>count        </td><td>17160.00     </td><td>15310.00     </td><td>  NA         </td><td>  NA         </td></tr>\n",
       "\t<tr><td>ePBD-RR group</td><td>average      </td><td>   18.49     </td><td>   22.74     </td><td>4.25         </td><td>3.08         </td></tr>\n",
       "\t<tr><td>ePBD-RR group</td><td>ste          </td><td>    0.16     </td><td>    0.23     </td><td>0.28         </td><td>0.31         </td></tr>\n",
       "\t<tr><td>ePBD-RR group</td><td>count        </td><td>11992.00     </td><td> 9182.00     </td><td>  NA         </td><td>  NA         </td></tr>\n",
       "\t<tr><td>Control group</td><td>average      </td><td>   14.46     </td><td>   15.63     </td><td>1.17         </td><td>  NA         </td></tr>\n",
       "\t<tr><td>Control group</td><td>ste          </td><td>    0.08     </td><td>    0.09     </td><td>0.12         </td><td>  NA         </td></tr>\n",
       "\t<tr><td>Control group</td><td>count        </td><td>33815.00     </td><td>38958.00     </td><td>  NA         </td><td>  NA         </td></tr>\n",
       "</tbody>\n",
       "</table>\n"
      ],
      "text/latex": [
       "\\begin{tabular}{r|llllll}\n",
       " Type & Value & Before\\_August\\_1989 & After\\_August\\_1989 & Change\\_After\\_Before & Diff\\_in\\_diff\\\\\n",
       "\\hline\n",
       "\t ePBD group    & average       &    15.83      &    18.08      & 2.25          & 1.08         \\\\\n",
       "\t ePBD group    & ste           &     0.08      &     0.09      & 0.12          & 0.17         \\\\\n",
       "\t ePBD group    & count         & 48294.00      & 51110.00      &   NA          &   NA         \\\\\n",
       "\t eRR group     & average       &    17.11      &    19.10      & 1.99          & 0.82         \\\\\n",
       "\t eRR group     & ste           &     0.12      &     0.15      & 0.19          & 0.23         \\\\\n",
       "\t eRR group     & count         & 17160.00      & 15310.00      &   NA          &   NA         \\\\\n",
       "\t ePBD-RR group & average       &    18.49      &    22.74      & 4.25          & 3.08         \\\\\n",
       "\t ePBD-RR group & ste           &     0.16      &     0.23      & 0.28          & 0.31         \\\\\n",
       "\t ePBD-RR group & count         & 11992.00      &  9182.00      &   NA          &   NA         \\\\\n",
       "\t Control group & average       &    14.46      &    15.63      & 1.17          &   NA         \\\\\n",
       "\t Control group & ste           &     0.08      &     0.09      & 0.12          &   NA         \\\\\n",
       "\t Control group & count         & 33815.00      & 38958.00      &   NA          &   NA         \\\\\n",
       "\\end{tabular}\n"
      ],
      "text/markdown": [
       "\n",
       "| Type | Value | Before_August_1989 | After_August_1989 | Change_After_Before | Diff_in_diff |\n",
       "|---|---|---|---|---|---|\n",
       "| ePBD group    | average       |    15.83      |    18.08      | 2.25          | 1.08          |\n",
       "| ePBD group    | ste           |     0.08      |     0.09      | 0.12          | 0.17          |\n",
       "| ePBD group    | count         | 48294.00      | 51110.00      |   NA          |   NA          |\n",
       "| eRR group     | average       |    17.11      |    19.10      | 1.99          | 0.82          |\n",
       "| eRR group     | ste           |     0.12      |     0.15      | 0.19          | 0.23          |\n",
       "| eRR group     | count         | 17160.00      | 15310.00      |   NA          |   NA          |\n",
       "| ePBD-RR group | average       |    18.49      |    22.74      | 4.25          | 3.08          |\n",
       "| ePBD-RR group | ste           |     0.16      |     0.23      | 0.28          | 0.31          |\n",
       "| ePBD-RR group | count         | 11992.00      |  9182.00      |   NA          |   NA          |\n",
       "| Control group | average       |    14.46      |    15.63      | 1.17          |   NA          |\n",
       "| Control group | ste           |     0.08      |     0.09      | 0.12          |   NA          |\n",
       "| Control group | count         | 33815.00      | 38958.00      |   NA          |   NA          |\n",
       "\n"
      ],
      "text/plain": [
       "   Type          Value   Before_August_1989 After_August_1989\n",
       "1  ePBD group    average    15.83              18.08         \n",
       "2  ePBD group    ste         0.08               0.09         \n",
       "3  ePBD group    count   48294.00           51110.00         \n",
       "4  eRR group     average    17.11              19.10         \n",
       "5  eRR group     ste         0.12               0.15         \n",
       "6  eRR group     count   17160.00           15310.00         \n",
       "7  ePBD-RR group average    18.49              22.74         \n",
       "8  ePBD-RR group ste         0.16               0.23         \n",
       "9  ePBD-RR group count   11992.00            9182.00         \n",
       "10 Control group average    14.46              15.63         \n",
       "11 Control group ste         0.08               0.09         \n",
       "12 Control group count   33815.00           38958.00         \n",
       "   Change_After_Before Diff_in_diff\n",
       "1  2.25                1.08        \n",
       "2  0.12                0.17        \n",
       "3    NA                  NA        \n",
       "4  1.99                0.82        \n",
       "5  0.19                0.23        \n",
       "6    NA                  NA        \n",
       "7  4.25                3.08        \n",
       "8  0.28                0.31        \n",
       "9    NA                  NA        \n",
       "10 1.17                  NA        \n",
       "11 0.12                  NA        \n",
       "12   NA                  NA        "
      ]
     },
     "metadata": {},
     "output_type": "display_data"
    }
   ],
   "source": [
    "table4_final"
   ]
  },
  {
   "cell_type": "markdown",
   "metadata": {},
   "source": [
    "## 3. Seek to reproduce Figure 3 in Lalive et al. (2006)"
   ]
  },
  {
   "cell_type": "code",
   "execution_count": 23,
   "metadata": {},
   "outputs": [],
   "source": [
    "PBD_before <- udat %>%\n",
    "    filter(after == 0, type == 'PBD') %>%\n",
    "    select(dur104, uncc)\n",
    "PBD_after <- udat %>%\n",
    "    filter(after == 1, type == 'PBD') %>%\n",
    "    select(dur104, uncc)\n",
    "RR_before <- udat %>%\n",
    "    filter(after == 0, type == 'RR') %>%\n",
    "    select(dur104, uncc)\n",
    "RR_after <- udat %>%\n",
    "    filter(after == 1, type == 'RR') %>%\n",
    "    select(dur104, uncc)\n",
    "PBD_RR_before <- udat %>%\n",
    "    filter(after == 0, type == 'PBD and RR') %>%\n",
    "    select(dur104, uncc)\n",
    "PBD_RR_after <- udat %>%\n",
    "    filter(after == 1, type == 'PBD and RR') %>%\n",
    "    select(dur104, uncc)\n",
    "control_before <- udat %>%\n",
    "    filter(after == 0, type == 'control') %>%\n",
    "    select(dur104, uncc)\n",
    "control_after <- udat %>%\n",
    "    filter(after == 1, type == 'control') %>%\n",
    "    select(dur104, uncc)"
   ]
  },
  {
   "cell_type": "code",
   "execution_count": 24,
   "metadata": {},
   "outputs": [],
   "source": [
    "surv_PBD_before <- Surv(PBD_before$dur104, PBD_before$uncc)\n",
    "surv_PBD_after <- Surv(PBD_after$dur104, PBD_after$uncc)\n",
    "\n",
    "surv_RR_before <- Surv(RR_before$dur104, RR_before$uncc)\n",
    "surv_RR_after <- Surv(RR_after$dur104, RR_after$uncc)\n",
    "\n",
    "surv_PBD_RR_before <- Surv(PBD_RR_before$dur104, PBD_RR_before$uncc)\n",
    "surv_PBD_RR_after <- Surv(PBD_RR_after$dur104, PBD_RR_after$uncc)\n",
    "\n",
    "surv_control_before <- Surv(control_before$dur104, control_before$uncc)\n",
    "surv_control_after <- Surv(control_after$dur104, control_after$uncc)"
   ]
  },
  {
   "cell_type": "code",
   "execution_count": 25,
   "metadata": {},
   "outputs": [],
   "source": [
    "surv_PBD_before.fit <- survfit(surv_PBD_before ~ 1)\n",
    "surv_PBD_after.fit <- survfit(surv_PBD_after ~ 1)\n",
    "\n",
    "surv_RR_before.fit <- survfit(surv_RR_before ~ 1)\n",
    "surv_RR_after.fit <- survfit(surv_RR_after ~ 1)\n",
    "\n",
    "surv_PBD_RR_before.fit <- survfit(surv_PBD_RR_before ~ 1)\n",
    "surv_PBD_RR_after.fit <- survfit(surv_PBD_RR_after ~ 1)\n",
    "\n",
    "surv_control_before.fit <- survfit(surv_control_before ~ 1)\n",
    "surv_control_after.fit <- survfit(surv_control_after ~ 1)"
   ]
  },
  {
   "cell_type": "code",
   "execution_count": 27,
   "metadata": {},
   "outputs": [
    {
     "data": {
      "image/png": "[encoded data removed]",
      "text/plain": [
       "Plot with title \"No treatment\""
      ]
     },
     "metadata": {},
     "output_type": "display_data"
    }
   ],
   "source": [
    "par(mfrow = c(2, 2))\n",
    "plot(surv_PBD_before.fit, lty = \"dashed\", main=\"PBD increase\", xlab=\"Unemployment duration (Weeks)\", ylab=\"Survivor\", sub = \"---- Before __ After\")\n",
    "par(new=TRUE)\n",
    "plot(surv_PBD_after.fit, lty = \"solid\", lwd = 1, xlab=\"Unemployment duration (Weeks)\", ylab=\"Survivor\")\n",
    "\n",
    "plot(surv_RR_before.fit, lty = \"dashed\", main=\"RR increase\", xlab=\"Unemployment duration (Weeks)\", ylab=\"Survivor\", sub = \"---- Before __ After\")\n",
    "par(new=TRUE)\n",
    "plot(surv_RR_after.fit, lty = \"solid\", lwd = 1, xlab=\"Unemployment duration (Weeks)\", ylab=\"Survivor\")\n",
    "\n",
    "plot(surv_PBD_RR_before.fit, lty = \"dashed\", main=\"RR and PBD increase\", xlab=\"Unemployment duration (Weeks)\", ylab=\"Survivor\", sub = \"---- Before __ After\")\n",
    "par(new=TRUE)\n",
    "plot(surv_PBD_RR_after.fit, lty = \"solid\", lwd = 0.5, xlab=\"Unemployment duration (Weeks)\", ylab=\"Survivor\")\n",
    "\n",
    "plot(surv_control_before.fit, lty = \"dashed\", main=\"No treatment\", xlab=\"Unemployment duration (Weeks)\", ylab=\"Survivor\", sub = \"---- Before __ After\")\n",
    "par(new=TRUE)\n",
    "plot(surv_control_after.fit, lty = \"solid\", lwd = 1, xlab=\"Unemployment duration (Weeks)\", ylab=\"Survivor\")"
   ]
  },
  {
   "cell_type": "code",
   "execution_count": 419,
   "metadata": {
    "scrolled": true
   },
   "outputs": [
    {
     "data": {
      "text/html": [
       "<strong>png:</strong> 2"
      ],
      "text/latex": [
       "\\textbf{png:} 2"
      ],
      "text/markdown": [
       "**png:** 2"
      ],
      "text/plain": [
       "png \n",
       "  2 "
      ]
     },
     "metadata": {},
     "output_type": "display_data"
    }
   ],
   "source": [
    "png('Survivor.png')\n",
    "par(mfrow = c(2, 2))\n",
    "plot(surv_PBD_before.fit, lty = \"dashed\", main=\"PBD increase\", xlab=\"Unemployment duration (Weeks)\", ylab=\"Survivor\", sub = \"---- Before __ After\")\n",
    "par(new=TRUE)\n",
    "plot(surv_PBD_after.fit, lty = \"solid\", lwd = 1, xlab=\"Unemployment duration (Weeks)\", ylab=\"Survivor\")\n",
    "\n",
    "plot(surv_RR_before.fit, lty = \"dashed\", main=\"RR increase\", xlab=\"Unemployment duration (Weeks)\", ylab=\"Survivor\", sub = \"---- Before __ After\")\n",
    "par(new=TRUE)\n",
    "plot(surv_RR_after.fit, lty = \"solid\", lwd = 1, xlab=\"Unemployment duration (Weeks)\", ylab=\"Survivor\")\n",
    "\n",
    "plot(surv_PBD_RR_before.fit, lty = \"dashed\", main=\"RR and PBD increase\", xlab=\"Unemployment duration (Weeks)\", ylab=\"Survivor\", sub = \"---- Before __ After\")\n",
    "par(new=TRUE)\n",
    "plot(surv_PBD_RR_after.fit, lty = \"solid\", lwd = 0.5, xlab=\"Unemployment duration (Weeks)\", ylab=\"Survivor\")\n",
    "\n",
    "plot(surv_control_before.fit, lty = \"dashed\", main=\"No treatment\", xlab=\"Unemployment duration (Weeks)\", ylab=\"Survivor\", sub = \"---- Before __ After\")\n",
    "par(new=TRUE)\n",
    "plot(surv_control_after.fit, lty = \"solid\", lwd = 1, xlab=\"Unemployment duration (Weeks)\", ylab=\"Survivor\")\n",
    "dev.off()"
   ]
  },
  {
   "cell_type": "markdown",
   "metadata": {},
   "source": [
    "## 4. Seek to reproduce Figure 3 in Lalive et al. (2006)"
   ]
  },
  {
   "cell_type": "code",
   "execution_count": 24,
   "metadata": {},
   "outputs": [],
   "source": [
    "hist_surv = list(summary(surv_PBD_before.fit)$surv, summary(surv_PBD_after.fit)$surv, summary(surv_RR_before.fit)$surv, \n",
    "                 summary(surv_RR_after.fit)$surv, summary(surv_PBD_RR_before.fit)$surv, summary(surv_PBD_RR_after.fit)$surv, \n",
    "                 summary(surv_control_before.fit)$surv, summary(surv_control_after.fit)$surv)"
   ]
  },
  {
   "cell_type": "code",
   "execution_count": 25,
   "metadata": {},
   "outputs": [],
   "source": [
    "hist_dur = list(summary(surv_PBD_before.fit)$time, summary(surv_PBD_after.fit)$time, summary(surv_RR_before.fit)$time, \n",
    "                 summary(surv_RR_after.fit)$time, summary(surv_PBD_RR_before.fit)$time, summary(surv_PBD_RR_after.fit)$time, \n",
    "                 summary(surv_control_before.fit)$time, summary(surv_control_after.fit)$time)"
   ]
  },
  {
   "cell_type": "code",
   "execution_count": 26,
   "metadata": {},
   "outputs": [],
   "source": [
    "hazard = list()\n",
    "local_regress = list()"
   ]
  },
  {
   "cell_type": "code",
   "execution_count": 27,
   "metadata": {},
   "outputs": [],
   "source": [
    "for (i in (1:length(hist_surv))) {\n",
    "    S = hist_surv[[i]]\n",
    "    t = hist_dur[[i]]\n",
    "    F = 1 - S\n",
    "    weeks = seq(1, length(t), length.out = 104)\n",
    "    S_week = S[weeks]\n",
    "    F_week = F[weeks]\n",
    "    t_week = t[weeks]\n",
    "    f_week = (F_week[2:104] - F_week[1:103])/(t_week[2:104] - t_week[1:103])\n",
    "    lambda = f_week[1:102]/S_week[1:102]\n",
    "    hazard[[i]] <- lambda\n",
    "    local_regress[[i]] <- locpoly(c(1:102), lambda, bandwidth = 2)\n",
    "}"
   ]
  },
  {
   "cell_type": "code",
   "execution_count": 411,
   "metadata": {},
   "outputs": [
    {
     "data": {
      "text/html": [
       "<strong>png:</strong> 2"
      ],
      "text/latex": [
       "\\textbf{png:} 2"
      ],
      "text/markdown": [
       "**png:** 2"
      ],
      "text/plain": [
       "png \n",
       "  2 "
      ]
     },
     "metadata": {},
     "output_type": "display_data"
    }
   ],
   "source": [
    "png('Hazard_PBD_before.png')\n",
    "plot(hazard[[1]], type = 'l', lty = \"dashed\", main=\"PBD increase, before August 1989\", ylim = c(0, 0.15), xlab=\"Unemployment duration (Weeks)\", ylab=\"Hazard\")\n",
    "par(new = TRUE)\n",
    "lines(local_regress[[1]], col = 'red')\n",
    "dev.off()"
   ]
  },
  {
   "cell_type": "code",
   "execution_count": 412,
   "metadata": {},
   "outputs": [
    {
     "data": {
      "text/html": [
       "<strong>png:</strong> 2"
      ],
      "text/latex": [
       "\\textbf{png:} 2"
      ],
      "text/markdown": [
       "**png:** 2"
      ],
      "text/plain": [
       "png \n",
       "  2 "
      ]
     },
     "metadata": {},
     "output_type": "display_data"
    }
   ],
   "source": [
    "png('Hazard_PBD_after.png')\n",
    "plot(hazard[[2]], type = 'l', lty = \"dashed\", main=\"PBD increase, after August 1989\", ylim = c(0, 0.15), xlab=\"Unemployment duration (Weeks)\", ylab=\"Hazard\")\n",
    "par(new = TRUE)\n",
    "lines(local_regress[[2]], col = 'red')\n",
    "dev.off()"
   ]
  },
  {
   "cell_type": "code",
   "execution_count": 413,
   "metadata": {},
   "outputs": [
    {
     "data": {
      "text/html": [
       "<strong>png:</strong> 2"
      ],
      "text/latex": [
       "\\textbf{png:} 2"
      ],
      "text/markdown": [
       "**png:** 2"
      ],
      "text/plain": [
       "png \n",
       "  2 "
      ]
     },
     "metadata": {},
     "output_type": "display_data"
    }
   ],
   "source": [
    "png('Hazard_RR_before.png')\n",
    "plot(hazard[[3]], type = 'l', lty = \"dashed\", main=\"RR increase, before August 1989\", ylim = c(0, 0.15), xlab=\"Unemployment duration (Weeks)\", ylab=\"Hazard\")\n",
    "par(new = TRUE)\n",
    "lines(local_regress[[3]], col = 'red')\n",
    "dev.off()"
   ]
  },
  {
   "cell_type": "code",
   "execution_count": 414,
   "metadata": {},
   "outputs": [
    {
     "data": {
      "text/html": [
       "<strong>png:</strong> 2"
      ],
      "text/latex": [
       "\\textbf{png:} 2"
      ],
      "text/markdown": [
       "**png:** 2"
      ],
      "text/plain": [
       "png \n",
       "  2 "
      ]
     },
     "metadata": {},
     "output_type": "display_data"
    }
   ],
   "source": [
    "png('Hazard_RR_after.png')\n",
    "plot(hazard[[4]], type = 'l', lty = \"dashed\", main=\"RR increase, after August 1989\", ylim = c(0, 0.15), xlab=\"Unemployment duration (Weeks)\", ylab=\"Hazard\")\n",
    "par(new = TRUE)\n",
    "lines(local_regress[[4]], col = 'red')\n",
    "dev.off()"
   ]
  },
  {
   "cell_type": "code",
   "execution_count": 415,
   "metadata": {},
   "outputs": [
    {
     "data": {
      "text/html": [
       "<strong>png:</strong> 2"
      ],
      "text/latex": [
       "\\textbf{png:} 2"
      ],
      "text/markdown": [
       "**png:** 2"
      ],
      "text/plain": [
       "png \n",
       "  2 "
      ]
     },
     "metadata": {},
     "output_type": "display_data"
    }
   ],
   "source": [
    "png('Hazard_RR_PBD_before.png')\n",
    "plot(hazard[[5]], type = 'l', lty = \"dashed\", main=\"RR and PBD increase, before August 1989\", ylim = c(0, 0.15), xlab=\"Unemployment duration (Weeks)\", ylab=\"Hazard\")\n",
    "par(new = TRUE)\n",
    "lines(local_regress[[5]], col = 'red')\n",
    "dev.off()"
   ]
  },
  {
   "cell_type": "code",
   "execution_count": 416,
   "metadata": {},
   "outputs": [
    {
     "data": {
      "text/html": [
       "<strong>png:</strong> 2"
      ],
      "text/latex": [
       "\\textbf{png:} 2"
      ],
      "text/markdown": [
       "**png:** 2"
      ],
      "text/plain": [
       "png \n",
       "  2 "
      ]
     },
     "metadata": {},
     "output_type": "display_data"
    }
   ],
   "source": [
    "png('Hazard_RR_PBD_after.png')\n",
    "plot(hazard[[6]], type = 'l', lty = \"dashed\", main=\"RR and PBD increase, after August 1989\", ylim = c(0, 0.15), xlab=\"Unemployment duration (Weeks)\", ylab=\"Hazard\")\n",
    "par(new = TRUE)\n",
    "lines(local_regress[[6]], col = 'red')\n",
    "dev.off()"
   ]
  },
  {
   "cell_type": "code",
   "execution_count": 417,
   "metadata": {},
   "outputs": [
    {
     "data": {
      "text/html": [
       "<strong>png:</strong> 2"
      ],
      "text/latex": [
       "\\textbf{png:} 2"
      ],
      "text/markdown": [
       "**png:** 2"
      ],
      "text/plain": [
       "png \n",
       "  2 "
      ]
     },
     "metadata": {},
     "output_type": "display_data"
    }
   ],
   "source": [
    "png('No_treatment_before.png')\n",
    "plot(hazard[[7]], type = 'l', lty = \"dashed\", main=\"No treatment, before August 1989\", ylim = c(0, 0.15), xlab=\"Unemployment duration (Weeks)\", ylab=\"Hazard\")\n",
    "par(new = TRUE)\n",
    "lines(local_regress[[7]], col = 'red')\n",
    "dev.off()"
   ]
  },
  {
   "cell_type": "code",
   "execution_count": 418,
   "metadata": {},
   "outputs": [
    {
     "data": {
      "text/html": [
       "<strong>png:</strong> 2"
      ],
      "text/latex": [
       "\\textbf{png:} 2"
      ],
      "text/markdown": [
       "**png:** 2"
      ],
      "text/plain": [
       "png \n",
       "  2 "
      ]
     },
     "metadata": {},
     "output_type": "display_data"
    }
   ],
   "source": [
    "png('No_treatment_after.png')\n",
    "plot(hazard[[8]], type = 'l', lty = \"dashed\", main=\"No treatment, after August 1989\", ylim = c(0, 0.15), xlab=\"Unemployment duration (Weeks)\", ylab=\"Hazard\")\n",
    "par(new = TRUE)\n",
    "lines(local_regress[[8]], col = 'red')\n",
    "dev.off()"
   ]
  },
  {
   "cell_type": "markdown",
   "metadata": {},
   "source": [
    "## 5. Estimate the causal treatment effect in a PH model"
   ]
  },
  {
   "cell_type": "markdown",
   "metadata": {},
   "source": [
    "- dur: duration of unemployment spell (weeks)\n",
    "- bdur:  potential benefit duration (weeks)\n",
    "- uncc =1: if spell not censored\n",
    "- tr =1 if replacement rate change\n",
    "- t39 = 1 if PBD 30-39 change\n",
    "- t52 = 1 if PBD 30-52 change\n",
    "- t39_tr = t39 * tr\n",
    "- t52_tr = t52 * tr\n",
    "- tr_a0 = tr * after0\n",
    "- t39_a0 = t39 * after0\n",
    "- t52_a0 = t52 * after0\n",
    "- t39tra0 = t39 * tr * after0\n",
    "- t52tra0 = t52 * tr * after0\n",
    "- after = 1 if spell starts after Aug 1, 1989\n",
    "- after0 = 1 if interval 0 after Aug 1, 1989"
   ]
  },
  {
   "cell_type": "code",
   "execution_count": 28,
   "metadata": {},
   "outputs": [],
   "source": [
    "udat$all <- udat$tr * (udat$t39 + udat$t52)"
   ]
  },
  {
   "cell_type": "code",
   "execution_count": 29,
   "metadata": {},
   "outputs": [],
   "source": [
    "breaks <- seq(from=3,to=59, by=4)"
   ]
  },
  {
   "cell_type": "code",
   "execution_count": 30,
   "metadata": {},
   "outputs": [],
   "source": [
    "labels <- paste(\"(\", c(0,breaks), \",\", c(breaks,104), \"]\",sep=\"\")"
   ]
  },
  {
   "cell_type": "code",
   "execution_count": 31,
   "metadata": {},
   "outputs": [],
   "source": [
    "gux <- survSplit(Surv(dur104,uncc) ~., data=udat, cut = breaks, end = \"time\", event=\"death\", start=\"start\", episode=\"interval\")"
   ]
  },
  {
   "cell_type": "code",
   "execution_count": 32,
   "metadata": {},
   "outputs": [],
   "source": [
    "gux <- mutate(gux, exposure = time - start, interval = factor(interval + 1, labels = labels))"
   ]
  },
  {
   "cell_type": "code",
   "execution_count": 33,
   "metadata": {},
   "outputs": [],
   "source": [
    "mf <- death ~ interval*tr + interval*t39 + interval*t52 + interval*all + interval*after0 + interval*tr_a0 + interval*t39_a0 + \n",
    "              interval*t52_a0 + interval*t39tra0 + interval*t52tra0 + age + married + single + divorced + f_marr + f_single + \n",
    "              f_divor + med_educ + hi_educ + lehre + nwage_pj + bc + lwage + ten72 + pnon_10 + seasonal + manuf + y1988 + \n",
    "              y1989 + y1990 + y1991 + q2 + q3 + q4"
   ]
  },
  {
   "cell_type": "code",
   "execution_count": 34,
   "metadata": {},
   "outputs": [],
   "source": [
    "pwe <- glm(mf, offset = log(exposure), data = gux, family = poisson)"
   ]
  },
  {
   "cell_type": "code",
   "execution_count": 35,
   "metadata": {},
   "outputs": [
    {
     "data": {
      "text/plain": [
       "\n",
       "Call:\n",
       "glm(formula = mf, family = poisson, data = gux, offset = log(exposure))\n",
       "\n",
       "Deviance Residuals: \n",
       "    Min       1Q   Median       3Q      Max  \n",
       "-2.4745  -0.7107  -0.5210  -0.3314   4.2496  \n",
       "\n",
       "Coefficients:\n",
       "                           Estimate Std. Error z value Pr(>|z|)    \n",
       "(Intercept)              -5.119e+00  1.341e-01 -38.175  < 2e-16 ***\n",
       "interval(3,7]             6.443e-01  2.243e-02  28.728  < 2e-16 ***\n",
       "interval(7,11]            1.098e+00  2.202e-02  49.872  < 2e-16 ***\n",
       "interval(11,15]           1.334e+00  2.289e-02  58.305  < 2e-16 ***\n",
       "interval(15,19]           1.375e+00  2.511e-02  54.764  < 2e-16 ***\n",
       "interval(19,23]           1.500e+00  2.747e-02  54.599  < 2e-16 ***\n",
       "interval(23,27]           1.201e+00  3.412e-02  35.206  < 2e-16 ***\n",
       "interval(27,31]           1.328e+00  3.669e-02  36.181  < 2e-16 ***\n",
       "interval(31,35]           1.195e+00  4.467e-02  26.762  < 2e-16 ***\n",
       "interval(35,39]           8.210e-01  5.910e-02  13.891  < 2e-16 ***\n",
       "interval(39,43]           6.890e-01  6.909e-02   9.972  < 2e-16 ***\n",
       "interval(43,47]           5.786e-01  7.938e-02   7.289 3.12e-13 ***\n",
       "interval(47,51]           4.472e-01  9.102e-02   4.913 8.96e-07 ***\n",
       "interval(51,55]           3.203e-01  1.032e-01   3.102 0.001920 ** \n",
       "interval(55,59]           2.304e-01  1.141e-01   2.020 0.043397 *  \n",
       "interval(59,104]          3.013e-01  4.704e-02   6.405 1.50e-10 ***\n",
       "tr                        1.112e-01  3.419e-02   3.253 0.001142 ** \n",
       "t39                       7.035e-02  2.575e-02   2.731 0.006307 ** \n",
       "t52                      -7.359e-02  3.767e-02  -1.954 0.050732 .  \n",
       "all                       2.120e-01  4.800e-02   4.416 1.01e-05 ***\n",
       "after0                    5.266e-02  2.715e-02   1.940 0.052429 .  \n",
       "tr_a0                    -2.467e-02  4.849e-02  -0.509 0.610893    \n",
       "t39_a0                    1.176e-02  3.554e-02   0.331 0.740664    \n",
       "t52_a0                    7.361e-02  5.115e-02   1.439 0.150168    \n",
       "t39tra0                  -1.198e-01  7.548e-02  -1.587 0.112424    \n",
       "t52tra0                  -2.967e-01  1.074e-01  -2.761 0.005762 ** \n",
       "age                      -1.314e-02  6.251e-04 -21.027  < 2e-16 ***\n",
       "married                   1.784e-01  1.262e-02  14.143  < 2e-16 ***\n",
       "single                    4.288e-02  1.407e-02   3.047 0.002309 ** \n",
       "divorced                 -8.127e-02  1.496e-02  -5.433 5.54e-08 ***\n",
       "f_marr                   -1.153e-01  6.507e-03 -17.713  < 2e-16 ***\n",
       "f_single                  8.672e-02  1.192e-02   7.278 3.38e-13 ***\n",
       "f_divor                   1.670e-03  1.252e-02   0.133 0.893957    \n",
       "med_educ                 -1.565e-01  1.095e-02 -14.284  < 2e-16 ***\n",
       "hi_educ                  -2.477e-01  1.257e-02 -19.701  < 2e-16 ***\n",
       "lehre                    -4.243e-02  4.928e-03  -8.610  < 2e-16 ***\n",
       "nwage_pj                 -8.448e-06  1.190e-06  -7.102 1.23e-12 ***\n",
       "bc                        4.027e-01  6.556e-03  61.422  < 2e-16 ***\n",
       "lwage                     2.667e-01  2.255e-02  11.831  < 2e-16 ***\n",
       "ten72                    -4.687e-03  5.212e-04  -8.994  < 2e-16 ***\n",
       "pnon_10                  -6.674e-02  1.271e-02  -5.249 1.53e-07 ***\n",
       "seasonal                  3.678e-01  5.323e-03  69.096  < 2e-16 ***\n",
       "manuf                    -1.102e-01  6.447e-03 -17.097  < 2e-16 ***\n",
       "y1988                     6.410e-02  7.750e-03   8.271  < 2e-16 ***\n",
       "y1989                     5.086e-02  1.028e-02   4.946 7.58e-07 ***\n",
       "y1990                    -1.236e-02  1.399e-02  -0.884 0.376856    \n",
       "y1991                    -6.473e-02  1.657e-02  -3.906 9.38e-05 ***\n",
       "q2                       -1.761e-02  6.782e-03  -2.597 0.009408 ** \n",
       "q3                       -2.420e-01  7.847e-03 -30.843  < 2e-16 ***\n",
       "q4                       -2.118e-01  6.907e-03 -30.660  < 2e-16 ***\n",
       "interval(3,7]:tr         -1.831e-01  4.129e-02  -4.434 9.24e-06 ***\n",
       "interval(7,11]:tr        -2.329e-01  4.027e-02  -5.785 7.26e-09 ***\n",
       "interval(11,15]:tr       -3.728e-01  4.175e-02  -8.930  < 2e-16 ***\n",
       "interval(15,19]:tr       -4.091e-01  4.459e-02  -9.174  < 2e-16 ***\n",
       "interval(19,23]:tr        2.452e-01  4.401e-02   5.572 2.52e-08 ***\n",
       "interval(23,27]:tr        2.275e-01  5.318e-02   4.279 1.88e-05 ***\n",
       "interval(27,31]:tr        2.071e-01  5.723e-02   3.619 0.000296 ***\n",
       "interval(31,35]:tr        2.025e-01  6.961e-02   2.910 0.003619 ** \n",
       "interval(35,39]:tr        1.533e-01  9.282e-02   1.651 0.098655 .  \n",
       "interval(39,43]:tr       -1.986e-01  1.190e-01  -1.668 0.095285 .  \n",
       "interval(43,47]:tr       -1.320e-02  1.281e-01  -0.103 0.917940    \n",
       "interval(47,51]:tr       -3.306e-01  1.613e-01  -2.050 0.040365 *  \n",
       "interval(51,55]:tr       -1.116e-02  1.645e-01  -0.068 0.945928    \n",
       "interval(55,59]:tr        4.397e-02  1.797e-01   0.245 0.806723    \n",
       "interval(59,104]:tr      -1.223e-01  7.781e-02  -1.572 0.116021    \n",
       "interval(3,7]:t39        -8.442e-03  3.076e-02  -0.274 0.783725    \n",
       "interval(7,11]:t39       -2.339e-02  3.019e-02  -0.775 0.438582    \n",
       "interval(11,15]:t39       7.466e-03  3.123e-02   0.239 0.811076    \n",
       "interval(15,19]:t39       5.431e-02  3.409e-02   1.593 0.111119    \n",
       "interval(19,23]:t39      -3.365e-01  3.881e-02  -8.669  < 2e-16 ***\n",
       "interval(23,27]:t39      -2.411e-01  4.700e-02  -5.131 2.89e-07 ***\n",
       "interval(27,31]:t39       4.303e-02  4.796e-02   0.897 0.369621    \n",
       "interval(31,35]:t39      -1.385e-02  5.874e-02  -0.236 0.813582    \n",
       "interval(35,39]:t39       1.180e-01  7.553e-02   1.562 0.118305    \n",
       "interval(39,43]:t39       1.534e-01  8.814e-02   1.741 0.081761 .  \n",
       "interval(43,47]:t39       9.108e-02  1.021e-01   0.892 0.372132    \n",
       "interval(47,51]:t39       1.024e-01  1.166e-01   0.879 0.379621    \n",
       "interval(51,55]:t39       1.299e-01  1.301e-01   0.999 0.317980    \n",
       "interval(55,59]:t39      -5.248e-02  1.492e-01  -0.352 0.725067    \n",
       "interval(59,104]:t39     -4.013e-03  6.146e-02  -0.065 0.947940    \n",
       "interval(3,7]:t52         6.730e-02  4.402e-02   1.529 0.126300    \n",
       "interval(7,11]:t52        7.335e-02  4.308e-02   1.703 0.088649 .  \n",
       "interval(11,15]:t52       2.366e-01  4.373e-02   5.411 6.25e-08 ***\n",
       "interval(15,19]:t52       3.252e-01  4.703e-02   6.914 4.70e-12 ***\n",
       "interval(19,23]:t52      -3.330e-02  5.315e-02  -0.627 0.530956    \n",
       "interval(23,27]:t52      -2.978e-02  6.396e-02  -0.466 0.641572    \n",
       "interval(27,31]:t52       1.013e-01  6.475e-02   1.565 0.117651    \n",
       "interval(31,35]:t52      -3.230e-01  8.407e-02  -3.842 0.000122 ***\n",
       "interval(35,39]:t52      -1.777e-01  1.040e-01  -1.709 0.087397 .  \n",
       "interval(39,43]:t52      -4.916e-01  1.312e-01  -3.747 0.000179 ***\n",
       "interval(43,47]:t52      -4.009e-01  1.417e-01  -2.830 0.004651 ** \n",
       "interval(47,51]:t52      -2.937e-01  1.544e-01  -1.903 0.057090 .  \n",
       "interval(51,55]:t52       6.997e-01  1.387e-01   5.044 4.56e-07 ***\n",
       "interval(55,59]:t52       2.380e-01  1.686e-01   1.411 0.158121    \n",
       "interval(59,104]:t52      2.941e-01  7.060e-02   4.165 3.11e-05 ***\n",
       "interval(3,7]:all        -1.250e-01  5.974e-02  -2.092 0.036481 *  \n",
       "interval(7,11]:all       -2.293e-01  5.868e-02  -3.908 9.29e-05 ***\n",
       "interval(11,15]:all      -2.736e-01  6.059e-02  -4.516 6.31e-06 ***\n",
       "interval(15,19]:all      -2.659e-01  6.434e-02  -4.133 3.58e-05 ***\n",
       "interval(19,23]:all      -4.908e-01  6.627e-02  -7.406 1.30e-13 ***\n",
       "interval(23,27]:all      -4.293e-01  7.808e-02  -5.498 3.85e-08 ***\n",
       "interval(27,31]:all      -3.051e-01  7.882e-02  -3.871 0.000109 ***\n",
       "interval(31,35]:all      -1.586e-01  9.573e-02  -1.656 0.097648 .  \n",
       "interval(35,39]:all      -2.069e-01  1.246e-01  -1.660 0.096837 .  \n",
       "interval(39,43]:all      -1.798e-02  1.584e-01  -0.114 0.909599    \n",
       "interval(43,47]:all      -1.269e-01  1.738e-01  -0.730 0.465447    \n",
       "interval(47,51]:all       1.561e-01  2.094e-01   0.745 0.456216    \n",
       "interval(51,55]:all      -8.980e-02  2.066e-01  -0.435 0.663779    \n",
       "interval(55,59]:all      -6.554e-02  2.384e-01  -0.275 0.783390    \n",
       "interval(59,104]:all     -2.091e-01  1.049e-01  -1.993 0.046245 *  \n",
       "interval(3,7]:after0     -1.306e-03  3.087e-02  -0.042 0.966272    \n",
       "interval(7,11]:after0     9.369e-02  3.013e-02   3.109 0.001876 ** \n",
       "interval(11,15]:after0    6.526e-02  3.142e-02   2.077 0.037796 *  \n",
       "interval(15,19]:after0   -1.703e-01  3.517e-02  -4.841 1.29e-06 ***\n",
       "interval(19,23]:after0   -1.594e-01  3.800e-02  -4.194 2.75e-05 ***\n",
       "interval(23,27]:after0   -9.750e-02  4.644e-02  -2.099 0.035791 *  \n",
       "interval(27,31]:after0   -2.475e-01  5.070e-02  -4.881 1.06e-06 ***\n",
       "interval(31,35]:after0   -3.032e-01  6.127e-02  -4.949 7.47e-07 ***\n",
       "interval(35,39]:after0   -1.671e-01  7.793e-02  -2.144 0.032032 *  \n",
       "interval(39,43]:after0   -2.190e-01  9.133e-02  -2.398 0.016497 *  \n",
       "interval(43,47]:after0   -3.430e-01  1.065e-01  -3.221 0.001276 ** \n",
       "interval(47,51]:after0   -4.347e-01  1.231e-01  -3.530 0.000415 ***\n",
       "interval(51,55]:after0   -2.599e-01  1.334e-01  -1.947 0.051479 .  \n",
       "interval(55,59]:after0   -2.672e-01  1.471e-01  -1.816 0.069317 .  \n",
       "interval(59,104]:after0  -1.369e-01  5.934e-02  -2.307 0.021045 *  \n",
       "interval(3,7]:tr_a0      -2.158e-02  5.987e-02  -0.360 0.718476    \n",
       "interval(7,11]:tr_a0     -4.956e-02  5.799e-02  -0.855 0.392735    \n",
       "interval(11,15]:tr_a0    -5.292e-02  6.027e-02  -0.878 0.379912    \n",
       "interval(15,19]:tr_a0     9.966e-03  6.543e-02   0.152 0.878931    \n",
       "interval(19,23]:tr_a0    -3.454e-02  6.369e-02  -0.542 0.587626    \n",
       "interval(23,27]:tr_a0     7.907e-02  7.501e-02   1.054 0.291798    \n",
       "interval(27,31]:tr_a0    -2.856e-02  8.264e-02  -0.346 0.729660    \n",
       "interval(31,35]:tr_a0    -1.069e-01  1.001e-01  -1.069 0.285274    \n",
       "interval(35,39]:tr_a0    -1.083e-01  1.274e-01  -0.850 0.395522    \n",
       "interval(39,43]:tr_a0     1.928e-01  1.576e-01   1.224 0.221104    \n",
       "interval(43,47]:tr_a0     9.283e-02  1.749e-01   0.531 0.595515    \n",
       "interval(47,51]:tr_a0     3.563e-01  2.141e-01   1.664 0.096118 .  \n",
       "interval(51,55]:tr_a0    -2.514e-02  2.206e-01  -0.114 0.909232    \n",
       "interval(55,59]:tr_a0    -5.358e-02  2.403e-01  -0.223 0.823558    \n",
       "interval(59,104]:tr_a0    1.544e-01  1.008e-01   1.532 0.125612    \n",
       "interval(3,7]:t39_a0     -7.963e-03  4.309e-02  -0.185 0.853403    \n",
       "interval(7,11]:t39_a0    -1.662e-02  4.207e-02  -0.395 0.692729    \n",
       "interval(11,15]:t39_a0    7.023e-03  4.369e-02   0.161 0.872309    \n",
       "interval(15,19]:t39_a0   -4.168e-02  4.893e-02  -0.852 0.394240    \n",
       "interval(19,23]:t39_a0   -9.053e-02  5.568e-02  -1.626 0.103990    \n",
       "interval(23,27]:t39_a0   -1.518e-01  6.651e-02  -2.283 0.022431 *  \n",
       "interval(27,31]:t39_a0   -5.680e-01  7.153e-02  -7.941 2.00e-15 ***\n",
       "interval(31,35]:t39_a0   -4.445e-01  8.495e-02  -5.233 1.67e-07 ***\n",
       "interval(35,39]:t39_a0    5.208e-02  9.967e-02   0.523 0.601264    \n",
       "interval(39,43]:t39_a0    2.898e-01  1.150e-01   2.520 0.011720 *  \n",
       "interval(43,47]:t39_a0    3.749e-01  1.346e-01   2.786 0.005342 ** \n",
       "interval(47,51]:t39_a0    2.680e-01  1.565e-01   1.712 0.086872 .  \n",
       "interval(51,55]:t39_a0    1.353e-01  1.698e-01   0.797 0.425698    \n",
       "interval(55,59]:t39_a0    2.577e-01  1.924e-01   1.339 0.180521    \n",
       "interval(59,104]:t39_a0   4.214e-02  7.910e-02   0.533 0.594171    \n",
       "interval(3,7]:t52_a0     -6.462e-02  6.167e-02  -1.048 0.294745    \n",
       "interval(7,11]:t52_a0    -7.802e-02  5.998e-02  -1.301 0.193387    \n",
       "interval(11,15]:t52_a0   -1.670e-01  6.132e-02  -2.724 0.006449 ** \n",
       "interval(15,19]:t52_a0   -3.078e-01  6.782e-02  -4.539 5.65e-06 ***\n",
       "interval(19,23]:t52_a0   -4.590e-01  7.760e-02  -5.915 3.31e-09 ***\n",
       "interval(23,27]:t52_a0   -5.707e-01  9.290e-02  -6.143 8.08e-10 ***\n",
       "interval(27,31]:t52_a0   -8.317e-01  9.891e-02  -8.409  < 2e-16 ***\n",
       "interval(31,35]:t52_a0   -4.421e-01  1.203e-01  -3.675 0.000238 ***\n",
       "interval(35,39]:t52_a0   -5.272e-01  1.429e-01  -3.689 0.000225 ***\n",
       "interval(39,43]:t52_a0   -3.695e-02  1.683e-01  -0.220 0.826222    \n",
       "interval(43,47]:t52_a0    1.197e-01  1.817e-01   0.659 0.510130    \n",
       "interval(47,51]:t52_a0    4.985e-01  1.936e-01   2.575 0.010011 *  \n",
       "interval(51,55]:t52_a0    8.848e-01  1.707e-01   5.185 2.16e-07 ***\n",
       "interval(55,59]:t52_a0    6.587e-01  2.071e-01   3.181 0.001466 ** \n",
       "interval(59,104]:t52_a0   1.458e-02  9.089e-02   0.160 0.872574    \n",
       "interval(3,7]:t39tra0     7.489e-02  9.412e-02   0.796 0.426247    \n",
       "interval(7,11]:t39tra0    1.173e-01  9.175e-02   1.278 0.201180    \n",
       "interval(11,15]:t39tra0   1.121e-01  9.517e-02   1.178 0.238710    \n",
       "interval(15,19]:t39tra0   2.271e-01  1.025e-01   2.215 0.026763 *  \n",
       "interval(19,23]:t39tra0   1.948e-01  1.060e-01   1.838 0.066052 .  \n",
       "interval(23,27]:t39tra0   2.171e-01  1.207e-01   1.798 0.072193 .  \n",
       "interval(27,31]:t39tra0   1.575e-01  1.313e-01   1.200 0.230014    \n",
       "interval(31,35]:t39tra0   5.856e-02  1.546e-01   0.379 0.704903    \n",
       "interval(35,39]:t39tra0   1.841e-01  1.762e-01   1.045 0.296140    \n",
       "interval(39,43]:t39tra0   3.073e-01  2.093e-01   1.468 0.142072    \n",
       "interval(43,47]:t39tra0  -4.062e-03  2.417e-01  -0.017 0.986590    \n",
       "interval(47,51]:t39tra0  -1.342e-01  2.893e-01  -0.464 0.642833    \n",
       "interval(51,55]:t39tra0   3.084e-01  2.937e-01   1.050 0.293700    \n",
       "interval(55,59]:t39tra0   1.309e-01  3.377e-01   0.388 0.698260    \n",
       "interval(59,104]:t39tra0  5.579e-02  1.496e-01   0.373 0.709169    \n",
       "interval(3,7]:t52tra0     9.462e-02  1.331e-01   0.711 0.477234    \n",
       "interval(7,11]:t52tra0    1.354e-01  1.287e-01   1.052 0.292589    \n",
       "interval(11,15]:t52tra0   1.780e-01  1.314e-01   1.354 0.175629    \n",
       "interval(15,19]:t52tra0   1.996e-01  1.416e-01   1.410 0.158529    \n",
       "interval(19,23]:t52tra0   2.410e-01  1.465e-01   1.645 0.099971 .  \n",
       "interval(23,27]:t52tra0   4.843e-01  1.599e-01   3.028 0.002459 ** \n",
       "interval(27,31]:t52tra0   2.018e-01  1.793e-01   1.125 0.260579    \n",
       "interval(31,35]:t52tra0  -1.709e-01  2.178e-01  -0.785 0.432701    \n",
       "interval(35,39]:t52tra0   2.760e-01  2.361e-01   1.169 0.242342    \n",
       "interval(39,43]:t52tra0   8.565e-02  2.676e-01   0.320 0.748934    \n",
       "interval(43,47]:t52tra0   7.694e-02  2.874e-01   0.268 0.788910    \n",
       "interval(47,51]:t52tra0  -3.267e-01  3.166e-01  -1.032 0.302204    \n",
       "interval(51,55]:t52tra0   5.062e-01  2.800e-01   1.808 0.070630 .  \n",
       "interval(55,59]:t52tra0   4.275e-01  3.293e-01   1.298 0.194221    \n",
       "interval(59,104]:t52tra0  3.140e-01  1.671e-01   1.879 0.060206 .  \n",
       "---\n",
       "Signif. codes:  0 '***' 0.001 '**' 0.01 '*' 0.05 '.' 0.1 ' ' 1\n",
       "\n",
       "(Dispersion parameter for poisson family taken to be 1)\n",
       "\n",
       "    Null deviance: 1016945  on 1057905  degrees of freedom\n",
       "Residual deviance:  943809  on 1057706  degrees of freedom\n",
       "AIC: 1376895\n",
       "\n",
       "Number of Fisher Scoring iterations: 6\n"
      ]
     },
     "metadata": {},
     "output_type": "display_data"
    }
   ],
   "source": [
    "summary(pwe)"
   ]
  },
  {
   "cell_type": "code",
   "execution_count": null,
   "metadata": {},
   "outputs": [],
   "source": []
  },
  {
   "cell_type": "code",
   "execution_count": null,
   "metadata": {},
   "outputs": [],
   "source": []
  },
  {
   "cell_type": "code",
   "execution_count": null,
   "metadata": {},
   "outputs": [],
   "source": []
  },
  {
   "cell_type": "code",
   "execution_count": null,
   "metadata": {},
   "outputs": [],
   "source": []
  },
  {
   "cell_type": "code",
   "execution_count": null,
   "metadata": {},
   "outputs": [],
   "source": []
  },
  {
   "cell_type": "code",
   "execution_count": null,
   "metadata": {},
   "outputs": [],
   "source": []
  }
 ],
 "metadata": {
  "kernelspec": {
   "display_name": "R",
   "language": "R",
   "name": "ir"
  },
  "language_info": {
   "codemirror_mode": "r",
   "file_extension": ".r",
   "mimetype": "text/x-r-source",
   "name": "R",
   "pygments_lexer": "r",
   "version": "3.5.1"
  }
 },
 "nbformat": 4,
 "nbformat_minor": 2
}
